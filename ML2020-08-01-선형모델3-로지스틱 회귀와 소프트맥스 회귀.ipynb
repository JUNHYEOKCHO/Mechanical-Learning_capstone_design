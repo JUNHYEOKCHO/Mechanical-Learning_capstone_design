{
 "cells": [
  {
   "cell_type": "markdown",
   "metadata": {},
   "source": [
    "## 이번 강의 목표 \n",
    "\n",
    "* 레이블의 종류가 $2$인 분류문제에 대한 로지스틱 회귀  \n",
    "\n",
    "> * 시그모이드 함수의 정의와 성질 \n",
    "\n",
    "> * 로그손실 함수 \n",
    "\n",
    "* 레이블의 종류가 $3$이상인 분류문제에 대한 소프트맥스 회귀 \n",
    "\n",
    "> * 소프트맥스 함수의 정의와 성질  \n",
    "\n",
    "> * 크로스 엔트로피 비용함수 \n",
    "\n",
    "* `sklearn.linear_module`의 `LogisticRegression`을 이용한 로지스틱 회귀모델과 소프트맥스 회귀모델 \n",
    "\n",
    "\n",
    "\n",
    "* 복습이 필요한 Numpy 함수:\n",
    "> * `np.exp`  ([API](https://numpy.org/doc/stable/reference/generated/numpy.exp.html?highlight=exp#numpy.exp))   \n",
    "> * `np.linspace` ([API](https://numpy.org/doc/stable/reference/generated/numpy.linspace.html?highlight=linspace#numpy.linspace))\n",
    "> * `np.min` ([API](https://numpy.org/doc/stable/reference/generated/numpy.ndarray.min.html?highlight=min#numpy.ndarray.min))    \n",
    "> * `np.argmin` ([API](https://numpy.org/doc/stable/reference/generated/numpy.argmin.html?highlight=argmin#numpy.argmin))  \n",
    "> * `np.column_stack` ([API](https://numpy.org/doc/stable/reference/generated/numpy.column_stack.html?highlight=column_stack#numpy.column_stack))  \n",
    "> * `np.meshgrid` ([API](https://numpy.org/doc/stable/reference/generated/numpy.meshgrid.html?highlight=meshgrid#numpy.meshgrid))\n",
    "> * `np.ndarray.ravel` ([API](https://numpy.org/doc/stable/reference/generated/numpy.ndarray.ravel.html?highlight=ravel))\n",
    "\n",
    "\n",
    "\n",
    "* 사용할 sklearn 모듈 및 메소드  \n",
    "\n",
    "        from sklearn                         import datasets\n",
    "        from sklearn.linear_model            import LogisticRegression\n",
    "        from sklearn.linear_model            import SGDClassifier\n",
    "        \n",
    "        \n",
    "* 익혀두면 그림 그릴 때 유용한 함수: \n",
    "\n",
    "> * `matplotlib.pyplot.contour`과 `matplotlib.pyplot.contourf` ([API](https://matplotlib.org/3.1.1/api/_as_gen/matplotlib.pyplot.contourf.html))  \n",
    "> * `matplotlib.pyplot.clabel` ([API](https://matplotlib.org/3.1.1/api/_as_gen/matplotlib.pyplot.clabel.html?highlight=clabel#matplotlib.pyplot.clabel))\n",
    "\n",
    "> * `matplotlib.colors.ListedColormap` ([API](https://matplotlib.org/3.3.1/api/_as_gen/matplotlib.colors.ListedColormap.html))  \n",
    "> * [Creating Colormap](https://matplotlib.org/3.3.1/tutorials/colors/colormap-manipulation.html#sphx-glr-tutorials-colors-colormap-manipulation-py)\n",
    "\n",
    "> * matplotlib의 cmap에 대한 [블로그](https://frhyme.github.io/python-lib/matplotlib_extracting_color_from_cmap/)  \n",
    "> * [Choosing Colormaps in Matplotlib](https://matplotlib.org/3.1.1/tutorials/colors/colormaps.html?highlight=colormap)"
   ]
  },
  {
   "cell_type": "markdown",
   "metadata": {},
   "source": [
    "## 1. 1 로지스틱 회귀(logistic regression)의 학습모델 \n",
    "\n",
    "* 레이블이 $1$, $0$인 두 개의 클래스에 대한 분류문제에서 샘플이 특정 클래스에 속할 확률을 추정하는 지도학습의 한 가지\n",
    "\n",
    "\n",
    "\n",
    "* 선형회귀 모델과 같이 입력 특성의 가중치의 합(편향 포함) $\\boldsymbol{\\theta}^{\\rm T}\\mathbf x = \\theta_0+\\theta_1 x_1+\\cdots +\\theta_nx_n$을 계산한 다음 시그모이드 함수(sigmoid) $\\sigma(t)=\\dfrac{1}{1+\\exp(-t)}$를 취한 값 $\\sigma(\\boldsymbol{\\theta}^{\\rm T}\\mathbf x)$를 ${\\rm P}(Y=1|X=\\mathbf x)$에 대한 추정값 $\\hat p(\\mathbf x)$로 추정하는 모델.   \n",
    "\n",
    "\n",
    "* 즉, 모델 파라미터 $\\boldsymbol{\\theta}=(\\theta_0,\\cdots,\\theta_n)^{\\rm T}$에 대한 로지스틱 회귀 모델을 $h_{\\boldsymbol{\\theta}}$라 할 때\n",
    "$$ $$\n",
    "$\\quad \\quad \n",
    "\\hat p(\\mathbf x) = h_{\\boldsymbol{\\theta}}(\\mathbf x)= \\sigma(\\boldsymbol{\\theta}^{\\rm T}\\mathbf x)\n",
    "=\\dfrac{1}{1+\\exp(-\\boldsymbol{\\theta}^{\\rm T}\\mathbf x)}=\\dfrac{1}{1+\\exp\\bigl(-(\\theta_0+\\theta_1x_1+\\cdots+\\theta_n x_n)\\bigr)} \n",
    "$  <span style=\"color:blue\">$\\cdots\\cdots$ (1)</span>\n",
    "\n",
    "* 시그모이드 함수를 생각하는 이유:  \n",
    "> * 확률 $0<p<1$에 대해 오즈(odds) $\\dfrac{p}{1-p}$는 $(0,\\infty)$사이의 값을 가지므로 로그-오즈(log-odds) 또는 로짓이라 부르는 $\\ln \\left(\\dfrac{p}{1-p}\\right)$는 $(-\\infty, \\infty)$ 사이의 값을 가짐  \n",
    "> * 이 로짓을 선형모델로 추정하는 것이 로지스틱 회귀모델. 즉, $\\ln \\left(\\dfrac{p}{1-p}\\right)=\\boldsymbol{\\theta}^{\\rm T}\\mathbf x$으로부터 $p$를 구하면 식<span style=\"color:blue\"> (1)</span>이 나옴 \n",
    "\n",
    "* <span style=\"color:blue\"> 로지스틱 회귀 모델을 통한 레이블의 예측 :</span>    \n",
    "> * 샘플 $\\mathbf x$가 양성 클래스(y=1)에 속할 확률 $\\hat p(\\mathbf x)=h_{\\boldsymbol{\\theta}}(\\mathbf x)$를 추정한 후 다음과 같이 예측 $\\hat y$를 구함 \n",
    "$$ $$\n",
    "$$\n",
    "\\hat y = \\begin{cases} 0 & \\text{ if }\\hat p(\\mathbf x)<0.5\\\\ 1 &\\text{ if }\\hat p(\\mathbf x)\\ge0.5\n",
    "\\end{cases}\n",
    "$$"
   ]
  },
  {
   "cell_type": "code",
   "execution_count": 1,
   "metadata": {},
   "outputs": [],
   "source": [
    "import numpy as np\n",
    "import matplotlib.pyplot as plt \n",
    "%matplotlib inline"
   ]
  },
  {
   "cell_type": "code",
   "execution_count": 2,
   "metadata": {},
   "outputs": [
    {
     "data": {
      "text/plain": [
       "<matplotlib.legend.Legend at 0x27ac35e9fa0>"
      ]
     },
     "execution_count": 2,
     "metadata": {},
     "output_type": "execute_result"
    },
    {
     "data": {
      "image/png": "[encoded data removed]",
      "text/plain": [
       "<Figure size 432x288 with 1 Axes>"
      ]
     },
     "metadata": {
      "needs_background": "light"
     },
     "output_type": "display_data"
    }
   ],
   "source": [
    "def sigmoid(x):\n",
    "    return 1/(1+np.exp(-x))\n",
    "\n",
    "xlist = np.linspace(-10,10,1000)\n",
    "ylist = sigmoid(xlist)\n",
    "\n",
    "plt.plot(xlist,ylist, label=r\"$\\sigma (t)=\\dfrac{1}{1+\\exp(-t)}$\")\n",
    "\n",
    "plt.plot([-10,10],[0.5,0.5], 'r--', linewidth=0.6)\n",
    "plt.plot([-10,10],[1,1], 'r--', linewidth=0.6)\n",
    "plt.plot([-10,10],[0,0], 'r--', linewidth=0.6)\n",
    "plt.plot([0,0],[0,1],'r--', linewidth=0.6)\n",
    "\n",
    "plt.legend(loc=\"upper left\", fontsize=10)"
   ]
  },
  {
   "cell_type": "markdown",
   "metadata": {},
   "source": [
    "## 1. 2 로지스틱 회귀모델의 학습 \n",
    "\n",
    "* 훈련 데이터셋 $\\{(\\mathbf x_i,y_i)|1\\le i \\le m\\}$이 주어질 때, 다음과 같이 정의되는 로지스틱 회귀의 비용함수(로그손실 함수) \n",
    "$$ $$\n",
    "$J(\\boldsymbol{\\theta}) = -\\dfrac 1 m \\sum_{i=1}^m \\left\n",
    "(y_i \\ln p_i + (1-y_i)\\ln (1-p_i)\\right)\\quad $ (단, $p_i= \\sigma(\\boldsymbol{\\theta}^{\\rm T}\\mathbf x_i$) <span style=\"color:blue\">$\\cdots (2)$</span>\n",
    "$$ $$\n",
    "가 최소가 되는 모델 파라미터 $\\boldsymbol{\\theta}$를 구하는 것   \n",
    "> * $\\text{P}(Y_i=1|X=\\mathbf x_i)=p_i$이므로 $\\text{P}(Y_i=0|X=\\mathbf x_i)=1-p_i$이고 훈련 데이터셋은 iid 확률변수 $(X_i,Y_i)$ $(1\\le i \\le m)$에 대한 값이므로 로지스틱 회귀 모델에 대한 비용함수가 최소가 되는 $\\boldsymbol{\\theta}$를 구하는 것은 $\\boldsymbol{\\theta}$에 대한 로그우도함수 $\\ell(\\boldsymbol{\\theta})= \\ln\\left(\\text{P}(y_1,\\cdots,y_m|\\mathbf x_1,\\cdots,\\mathbf x_m:\\boldsymbol{\\theta})\\right)$가 최대가 되는 $\\boldsymbol{\\theta}$를 구하는 것과 같다. \n",
    "\n",
    "$$\n",
    "\\begin{aligned}\n",
    "J(\\boldsymbol{\\theta})=& -\\dfrac 1 m \\ln\\left(\\prod_{i=1}^m p_i^{y_i} (1-p_i)^{(1-y_i)}\\right)\\\\\n",
    "=& -\\dfrac 1 m \\ln\\left(\\text{P}(Y_1=y_1,\\cdots,Y_m=y_m|X_1=\\mathbf x_1,\\cdots,X_m=\\mathbf x_m :\\boldsymbol{\\theta}\\right)\n",
    "\\end{aligned}\n",
    "$$\n",
    "$$ $$   \n",
    "* 비용함수 $J(\\boldsymbol{\\theta})$는 $\\boldsymbol{\\theta}$에 대해 아래로 볼록한 함수이므로 최솟값이 존재함을 보장할 수 있지만, 정규방정식처럼 해를 구하는 공식은 없음  \n",
    "> * 경사하강법 또는 다른 최적화 알고리즘을 이용하여 해의 근삿값을 구함 (`sklearn.linear_model` 모듈의 `LogisticRegression`의 `solver`참고)\n",
    "> * 배치 경사하강법을 적용할 때 비용함수에 대한 그래디언트 벡터 $\\nabla_{\\boldsymbol{\\theta}}J(\\boldsymbol{\\theta})$ : 각 $i$ ($1\\le i\\le m)$에 대해 $\\nabla_{\\boldsymbol{\\theta}}J(\\boldsymbol{\\theta})$의 $j$번째 성분은 \n",
    "$$\\dfrac{\\partial}{\\partial \\theta_j} J(\\boldsymbol{\\theta})= \\dfrac 1 m \\sum_{i=1}^m \\left(\n",
    "\\sigma(\\boldsymbol{\\theta}^{\\rm T}\\mathbf x_i)-y_i\\right)x_{ij},\\quad \\mathbf x_i=(1,x_{i1},\\cdots,x_{in})$$\n",
    "<span style=\"color:red\"> (check 1)</span>\n",
    "\n",
    "* `sklearn.linear_model` 모듈의 `LogisticRegression` [API](https://scikit-learn.org/stable/modules/generated/sklearn.linear_model.LogisticRegression.html?highlight=logisticregression#sklearn.linear_model.LogisticRegression)  또는 확률적 경사하강법을 이용하는 `sklearn.linear_model` 모듈의 `SGDClassifier` [API](https://scikit-learn.org/stable/modules/generated/sklearn.linear_model.SGDClassifier.html?highlight=sgdclassifier#sklearn.linear_model.SGDClassifier)를 사용(이 경우 `loss=\"log\"`로 설정해야 로지스틱 회귀)\n",
    "> * 다른 선형회귀 모델처럼 로지스틱 회귀 모델도 $\\ell_1$, $\\ell_2$ 규제항을 사용하여 규제할 수 있으며 `LogisticRegression`은 $\\ell_2$ 페널티를 기본으로 함 (`penalty=\"l2\"`, `penalty=\"none\"`과 같이 사용)\n",
    "$$ $$\n",
    "> * <span style=\"color:blue\">규제가 있는 `SGDClassifier(loss='log')` 모델의 경우 선형회귀 모델(`SGDRegressor`)의 경우처럼 규제를 조절하는 하이퍼파라미터가 `alpha`이지만, `LogisticRegression`의 경우에는 `alpha`의 역수에 해당하는 `C`가 규제를 조절하는 하이퍼파라미터</span>  \n",
    ">> * `C`의 기본값은 $1$, C가 커지면 규제가 작아지고, C가 작아지면 규제가 커짐 \n",
    "$$ $$\n",
    "* 로지스틱 회귀 모델로 `LogisticRegression`을 사용하는 경우 \n",
    "> * 최적화에 사용되는 알고리즘은 `solver`를 통해 선택할 수 있으며 기본값은 `solver=\"lbfgs\"` (선택한 페널티 항에 대해 사용할 수 있는 최적화 알고리즘에 제한이 있으므로 자세한 내용은 위 API를 참고)  \n",
    "$$ $$\n",
    "> * 이진 분류가 아닌 경우, 즉, 클래스의 종류가 $3$이상일 때는 입력변수 `multi_class`를 `multi_class=\"multinomial\"`로 두면 뒤에 설명할 소프트맥스 회귀 모델이 됨  \n",
    ">> * `multi_class=\"ovr\"`이면 일대다 전략을 사용 \n",
    "$$ $$\n",
    "> * 학습이 끝난 후 예측은 `predict` 메소드를 이용하고, 확률값은 `predict_proba` 메소드를 이용 \n",
    "$$ $$\n",
    "> * 학습된 객체의 `score` 메소드는 정확도(accuracy)를 사용 "
   ]
  },
  {
   "cell_type": "markdown",
   "metadata": {},
   "source": [
    "## 1. 3 로지스틱 회귀 실습 \n",
    "\n",
    "* 데이터셋 : 붓꽃 데이터셋 (sklearn의 datasets에 포함되어 있는 데이터셋)   \n",
    "> * Setosa, Versicolor, Virginica 세 품종의 붓꽃 150개에 대한 꽃잎(petal), 꽃받침(sepal)의 너비와 길이를 담고 있는 데이터셋\n",
    "$$ $$\n",
    "> * [UCI Machine Learning Repository](http://archive.ics.uci.edu/ml/datasets/Iris/)  \n",
    "> * 세 품종의 그림\n",
    "| Setosa| Versicolor| Virginica|\n",
    "    |-|-|-|\n",
    "    |<img src=\".\\images\\week10\\setosa.jpg\" width=\"200\">|<img src=\".\\images\\week10\\versicolor.jpg\" width=\"200\">  |<img src=\".\\images\\week10\\virginica.jpg\" width=\"200\">  |\n",
    "    | [그림출처](https://www.flickr.com/photos/nhq9801/9200911388/)|[그림출처](https://commons.wikimedia.org/wiki/File:Blue_Flag,_Ottawa.jpg)  |[그림출처](https://commons.wikimedia.org/wiki/File:Iris_virginica_2.jpg)  |\n",
    "    \n",
    "* 꽃잎(petal)의 너비를 virginica 품종인지 아닌지를 판별하는 로지스틱 회귀 예측기를 구성해보자.  \n",
    "> * 주어진 데이터를 모두 이용하여 학습시키고, virginica 품종으로 예측하는 너비의 경계를 구해보자.  "
   ]
  },
  {
   "cell_type": "code",
   "execution_count": 3,
   "metadata": {},
   "outputs": [],
   "source": [
    "# 데이터셋 로드 \n",
    "from sklearn import datasets"
   ]
  },
  {
   "cell_type": "code",
   "execution_count": 4,
   "metadata": {},
   "outputs": [],
   "source": [
    "iris = datasets.load_iris()"
   ]
  },
  {
   "cell_type": "code",
   "execution_count": 5,
   "metadata": {},
   "outputs": [
    {
     "data": {
      "text/plain": [
       "dict_keys(['data', 'target', 'frame', 'target_names', 'DESCR', 'feature_names', 'filename'])"
      ]
     },
     "execution_count": 5,
     "metadata": {},
     "output_type": "execute_result"
    }
   ],
   "source": [
    "# 로드된 데이터셋은 일종의 dictionary 형태\n",
    "iris.keys()"
   ]
  },
  {
   "cell_type": "code",
   "execution_count": 6,
   "metadata": {},
   "outputs": [
    {
     "name": "stdout",
     "output_type": "stream",
     "text": [
      ".. _iris_dataset:\n",
      "\n",
      "Iris plants dataset\n",
      "--------------------\n",
      "\n",
      "**Data Set Characteristics:**\n",
      "\n",
      "    :Number of Instances: 150 (50 in each of three classes)\n",
      "    :Number of Attributes: 4 numeric, predictive attributes and the class\n",
      "    :Attribute Information:\n",
      "        - sepal length in cm\n",
      "        - sepal width in cm\n",
      "        - petal length in cm\n",
      "        - petal width in cm\n",
      "        - class:\n",
      "                - Iris-Setosa\n",
      "                - Iris-Versicolour\n",
      "                - Iris-Virginica\n",
      "                \n",
      "    :Summary Statistics:\n",
      "\n",
      "    ============== ==== ==== ======= ===== ====================\n",
      "                    Min  Max   Mean    SD   Class Correlation\n",
      "    ============== ==== ==== ======= ===== ====================\n",
      "    sepal length:   4.3  7.9   5.84   0.83    0.7826\n",
      "    sepal width:    2.0  4.4   3.05   0.43   -0.4194\n",
      "    petal length:   1.0  6.9   3.76   1.76    0.9490  (high!)\n",
      "    petal width:    0.1  2.5   1.20   0.76    0.9565  (high!)\n",
      "    ============== ==== ==== ======= ===== ====================\n",
      "\n",
      "    :Missing Attribute Values: None\n",
      "    :Class Distribution: 33.3% for each of 3 classes.\n",
      "    :Creator: R.A. Fisher\n",
      "    :Donor: Michael Marshall (MARSHALL%PLU@io.arc.nasa.gov)\n",
      "    :Date: July, 1988\n",
      "\n",
      "The famous Iris database, first used by Sir R.A. Fisher. The dataset is taken\n",
      "from Fisher's paper. Note that it's the same as in R, but not as in the UCI\n",
      "Machine Learning Repository, which has two wrong data points.\n",
      "\n",
      "This is perhaps the best known database to be found in the\n",
      "pattern recognition literature.  Fisher's paper is a classic in the field and\n",
      "is referenced frequently to this day.  (See Duda & Hart, for example.)  The\n",
      "data set contains 3 classes of 50 instances each, where each class refers to a\n",
      "type of iris plant.  One class is linearly separable from the other 2; the\n",
      "latter are NOT linearly separable from each other.\n",
      "\n",
      ".. topic:: References\n",
      "\n",
      "   - Fisher, R.A. \"The use of multiple measurements in taxonomic problems\"\n",
      "     Annual Eugenics, 7, Part II, 179-188 (1936); also in \"Contributions to\n",
      "     Mathematical Statistics\" (John Wiley, NY, 1950).\n",
      "   - Duda, R.O., & Hart, P.E. (1973) Pattern Classification and Scene Analysis.\n",
      "     (Q327.D83) John Wiley & Sons.  ISBN 0-471-22361-1.  See page 218.\n",
      "   - Dasarathy, B.V. (1980) \"Nosing Around the Neighborhood: A New System\n",
      "     Structure and Classification Rule for Recognition in Partially Exposed\n",
      "     Environments\".  IEEE Transactions on Pattern Analysis and Machine\n",
      "     Intelligence, Vol. PAMI-2, No. 1, 67-71.\n",
      "   - Gates, G.W. (1972) \"The Reduced Nearest Neighbor Rule\".  IEEE Transactions\n",
      "     on Information Theory, May 1972, 431-433.\n",
      "   - See also: 1988 MLC Proceedings, 54-64.  Cheeseman et al\"s AUTOCLASS II\n",
      "     conceptual clustering system finds 3 classes in the data.\n",
      "   - Many, many more ...\n"
     ]
    }
   ],
   "source": [
    "print(iris[\"DESCR\"])"
   ]
  },
  {
   "cell_type": "code",
   "execution_count": 7,
   "metadata": {},
   "outputs": [
    {
     "data": {
      "text/plain": [
       "['sepal length (cm)',\n",
       " 'sepal width (cm)',\n",
       " 'petal length (cm)',\n",
       " 'petal width (cm)']"
      ]
     },
     "execution_count": 7,
     "metadata": {},
     "output_type": "execute_result"
    }
   ],
   "source": [
    "iris[\"feature_names\"]"
   ]
  },
  {
   "cell_type": "code",
   "execution_count": 8,
   "metadata": {},
   "outputs": [
    {
     "data": {
      "text/plain": [
       "array(['setosa', 'versicolor', 'virginica'], dtype='<U10')"
      ]
     },
     "execution_count": 8,
     "metadata": {},
     "output_type": "execute_result"
    }
   ],
   "source": [
    "iris[\"target_names\"]"
   ]
  },
  {
   "cell_type": "code",
   "execution_count": 9,
   "metadata": {},
   "outputs": [
    {
     "data": {
      "text/plain": [
       "array([[5.1, 3.5, 1.4, 0.2],\n",
       "       [4.9, 3. , 1.4, 0.2],\n",
       "       [4.7, 3.2, 1.3, 0.2]])"
      ]
     },
     "execution_count": 9,
     "metadata": {},
     "output_type": "execute_result"
    }
   ],
   "source": [
    "iris[\"data\"][:3]"
   ]
  },
  {
   "cell_type": "code",
   "execution_count": 10,
   "metadata": {},
   "outputs": [
    {
     "data": {
      "text/plain": [
       "array([0, 0, 0, 0, 0, 0, 0, 0, 0, 0, 0, 0, 0, 0, 0, 0, 0, 0, 0, 0, 0, 0,\n",
       "       0, 0, 0, 0, 0, 0, 0, 0, 0, 0, 0, 0, 0, 0, 0, 0, 0, 0, 0, 0, 0, 0,\n",
       "       0, 0, 0, 0, 0, 0, 1, 1, 1, 1, 1, 1, 1, 1, 1, 1, 1, 1, 1, 1, 1, 1,\n",
       "       1, 1, 1, 1, 1, 1, 1, 1, 1, 1, 1, 1, 1, 1, 1, 1, 1, 1, 1, 1, 1, 1,\n",
       "       1, 1, 1, 1, 1, 1, 1, 1, 1, 1, 1, 1, 2, 2, 2, 2, 2, 2, 2, 2, 2, 2,\n",
       "       2, 2, 2, 2, 2, 2, 2, 2, 2, 2, 2, 2, 2, 2, 2, 2, 2, 2, 2, 2, 2, 2,\n",
       "       2, 2, 2, 2, 2, 2, 2, 2, 2, 2, 2, 2, 2, 2, 2, 2, 2, 2])"
      ]
     },
     "execution_count": 10,
     "metadata": {},
     "output_type": "execute_result"
    }
   ],
   "source": [
    "iris[\"target\"][:150]"
   ]
  },
  {
   "cell_type": "markdown",
   "metadata": {},
   "source": [
    "#### 꽃잎의 너비를 이용하여 virginica를 판별하는 로지스틱 회귀 모델 "
   ]
  },
  {
   "cell_type": "code",
   "execution_count": 11,
   "metadata": {},
   "outputs": [],
   "source": [
    "# 꽃잎의 너비(petal)을 이용하여 virginica이면 레이블 1, 아니면 레이블 0이 되도록 학습 \n",
    "\n",
    "X = iris[\"data\"][:,3:]\n",
    "y = (iris[\"target\"] == 2).astype(np.int) "
   ]
  },
  {
   "cell_type": "code",
   "execution_count": 13,
   "metadata": {},
   "outputs": [],
   "source": [
    "from sklearn.linear_model import LogisticRegression"
   ]
  },
  {
   "cell_type": "code",
   "execution_count": 14,
   "metadata": {},
   "outputs": [
    {
     "data": {
      "text/plain": [
       "LogisticRegression(penalty='none')"
      ]
     },
     "execution_count": 14,
     "metadata": {},
     "output_type": "execute_result"
    }
   ],
   "source": [
    "log_reg = LogisticRegression(penalty=\"none\")\n",
    "log_reg.fit(X,y)"
   ]
  },
  {
   "cell_type": "code",
   "execution_count": 15,
   "metadata": {},
   "outputs": [
    {
     "data": {
      "text/plain": [
       "<matplotlib.legend.Legend at 0x27ac5e00610>"
      ]
     },
     "execution_count": 15,
     "metadata": {},
     "output_type": "execute_result"
    },
    {
     "data": {
      "image/png": "[encoded data removed]",
      "text/plain": [
       "<Figure size 432x288 with 1 Axes>"
      ]
     },
     "metadata": {
      "needs_background": "light"
     },
     "output_type": "display_data"
    }
   ],
   "source": [
    "X_new = np.linspace(0, 3, 1000).reshape(-1,1)\n",
    "y_new_proba = log_reg.predict_proba(X_new)\n",
    "\n",
    "plt.plot(X_new, y_new_proba[:, 1], \"g-\", label=\"Iris virginica\")\n",
    "plt.plot(X_new, y_new_proba[:, 0], \"r--\", label=\"Not Iris virginica\")\n",
    "plt.legend(loc=\"upper left\", fontsize=10)"
   ]
  },
  {
   "cell_type": "code",
   "execution_count": 16,
   "metadata": {},
   "outputs": [
    {
     "name": "stdout",
     "output_type": "stream",
     "text": [
      "0.5032587409177416\n",
      "543\n",
      "Virginica로 판별하는 너비의 길이: 대략 1.63cm 이상일 때\n"
     ]
    }
   ],
   "source": [
    "positive_idx = y_new_proba >=0.5\n",
    "print(np.min(y_new_proba[positive_idx]))\n",
    "decision_id = np.argmin(y_new_proba[positive_idx])\n",
    "print(np.argmin(y_new_proba[positive_idx]))\n",
    "print(f\"Virginica로 판별하는 너비의 길이: 대략 {X_new[decision_id,0]:.2f}cm 이상일 때\")"
   ]
  },
  {
   "cell_type": "markdown",
   "metadata": {},
   "source": [
    "#### 꽃잎의 너비와 길이를 이용하여 virginica를 판별하는 로지스틱 회귀모델 "
   ]
  },
  {
   "cell_type": "code",
   "execution_count": 16,
   "metadata": {},
   "outputs": [
    {
     "data": {
      "image/png": "[encoded data removed]",
      "text/plain": [
       "<Figure size 576x360 with 1 Axes>"
      ]
     },
     "metadata": {
      "needs_background": "light"
     },
     "output_type": "display_data"
    }
   ],
   "source": [
    "X2 = iris[\"data\"][:, 2:]  # 꽃잎의 길이, 너비 \n",
    "y2 = (iris[\"target\"] == 2).astype(np.int)\n",
    "\n",
    "# C값이 크면 규제가 없다는 의미임.\n",
    "log_reg2 = LogisticRegression(C=10**10, random_state=42)\n",
    "log_reg2.fit(X2, y2)\n",
    "\n",
    "# 그림을 그리기 위한 작업\n",
    "x0, x1 = np.meshgrid(        \n",
    "        np.linspace(0.8, 7, 800).reshape(-1, 1),\n",
    "        np.linspace(0, 2.7, 400).reshape(-1, 1),\n",
    "    )\n",
    "\n",
    "X2_new = np.column_stack([x0.ravel(), x1.ravel()])\n",
    "\n",
    "y2_proba = log_reg2.predict_proba(X2_new)\n",
    "\n",
    "plt.figure(figsize=(8, 5))\n",
    "plt.plot(X2[y2==0, 0], X2[y2==0, 1], \"rx\", alpha=0.3)\n",
    "plt.plot(X2[y2==1, 0], X2[y2==1, 1], \"go\", alpha=0.3)\n",
    "\n",
    "zz = y2_proba[:, 1].reshape(x0.shape)\n",
    "contour = plt.contour(x0, x1, zz, levels=9, cmap=plt.cm.RdYlGn)\n",
    "\n",
    "# 확률이 0.5인 결정 경계 계산\n",
    "left_right = np.array([2.9, 7])\n",
    "boundary = -(log_reg2.coef_[0][0] * left_right + log_reg2.intercept_[0]) / log_reg2.coef_[0][1]\n",
    "\n",
    "# 등위선에 대응되는 확률값 표시 \n",
    "plt.clabel(contour, inline=1, fontsize=10, fmt='%1.2f')\n",
    "plt.plot(left_right, boundary, \"k--\", linewidth=1)\n",
    "plt.text(3.5, 1.5, \"Not Iris virginica\", fontsize=10, color=\"r\", ha=\"center\")\n",
    "plt.text(6.5, 2.3, \"Iris virginica\", fontsize=10, color=\"g\", ha=\"center\")\n",
    "plt.xlabel(\"Petal length\", fontsize=10)\n",
    "plt.ylabel(\"Petal width\", fontsize=10)\n",
    "# plt.axis([2.9, 7, 0.8, 2.7])\n",
    "plt.show()"
   ]
  },
  {
   "cell_type": "markdown",
   "metadata": {},
   "source": [
    "## 2. 1 소프트맥스 회귀(softmax regression)의 학습 모델 \n",
    "\n",
    "\n",
    "* 다중 클래스에 대한 분류문제에서 샘플이 특정 클래스에 속할 확률을 추정하는 지도학습의 한 가지  \n",
    "> * $2$개의 클래스에 대한 이진 분류기를 여러 개 사용하여 다중 분류문제에 대한 분류기를 만들 수도 있음  \n",
    ">> * **일대다 전략**(**OvR**(One versus the Rest) 또는 **OvA**(One versus All) 전략):  \n",
    "$$ $$\n",
    ">> 한 개의 클래스만 양성, 나머지는 음성으로 분류하는 이진 분류기를 클래스의 개수만큼 학습시킨 후, 주어진 샘플이 각 분류기에 대해 양성이 될 확률값을 계산하고 이 확률값이 가장 큰 클래스로 분류하는 방법 \n",
    "$$ $$\n",
    ">> * **일대일 전략**(**OvO**(One versus One) 전략):\n",
    "$$ $$\n",
    ">> 주어진 $K$개의 클래스 중에서 $2$개의 클래스 조합마다 이진 분류기를 학습시켜 총 $K(K-1)/2$개의 학습된 이진분류기 만들고, 주어진 샘플에 대해 $K(K-1)/2$개의 분류기에 대한 레이블을 구해서 가장 많이 양성으로 분류된 클래스를 선택하는 방법  \n",
    "$$ $$\n",
    ">> * 로지스틱 회귀모델의 경우에 `LogisticRegression`의 입력변수 `multi_class`를 `multi_class=\"ovr\"`로 설정하면 다중 분류기를 학습시킬 수 있음  \n",
    "\n",
    "* 소프트맥스 회귀 모델:  \n",
    "$$ $$\n",
    "훈련 데이터셋 $\\{(\\mathbf x_i,y_i)|1\\le i \\le m\\}$이 주어질 때 (단, 가능한 레이블의 종류는 $K$ 가지이고, $\\mathbf x_i=(1,x_{i1},\\cdots,x_{in})^{\\rm T}$)\n",
    "> * (1) $K$ 개의 클래스 각각에 대해 모델 파라미터 $\\boldsymbol{\\theta}_k=(\\theta_{k0},\\theta_{k1},\\cdots,\\theta_{kn})^{\\rm T}$ ($k=1,2,\\cdots,K$)를 이용하여 샘플 $\\mathbf x$의 클래스 $k$에 대한 점수(score) $s_k(\\mathbf x)=\\boldsymbol{\\theta}_k^{\\rm T}\\mathbf x$를 계산하고,  \n",
    "$$ $$\n",
    "이때, 각 클래스 $k$에 대한\n",
    ">> * 점수를 성분으로 갖는 벡터를 $\\mathbf s(\\mathbf x)=(s_1(\\mathbf x),\\cdots,s_K(\\mathbf x))^{\\rm T}$라 하고,   \n",
    ">> * <span style=\"color:blue\">$\\boldsymbol{\\theta}_k$를 행벡터로 갖는 $k\\times (n+1)$ 행렬을 $\\mathbf \\Theta = (\\theta_{ij})$라고 함</span>\n",
    "$$ $$  \n",
    "> * (2) $\\mathbf t=(t_1,\\cdots,t_K)^{\\rm T}\\in \\mathbb R^K$에 대해 소프트맥스 함수 $\\sigma: \\mathbb R^K\\to [0,1]^K$를 다음과 같이 정의할 때 \n",
    " $$\\sigma(\\mathbf t) = \\left(\\dfrac{\\exp(t_1)}{\\sum_{k=1}^K \\exp(t_k)},\\cdots,\\dfrac{\\exp(t_K)}{\\sum_{k=1}^K \\exp(t_k)}\\right)^{\\rm T}$$\n",
    "$$ $$   \n",
    ">> * $\\sigma(\\mathbf t)$의 $i$번째 성분을 $\\sigma(\\mathbf t)_i$라 할 때 \n",
    "$$ \\sigma(\\mathbf t)_1+\\cdots + \\sigma(\\mathbf t)_K=1$$  \n",
    ">> * 아래 이론연습 문제 (3) 참고 \n",
    "$$ $$\n",
    "> * (3) 클래스 $k$에 속할 확률 $\\hat p_k(\\mathbf x)$를 다음과 같이 추정 (<span style=\"color:blue\">오해의 소지가 없을 때는 $\\hat p_k(\\mathbf x)$를 간단히 $\\hat p_k$로 나타냄</span>) \n",
    "$$\\hat{p}_k = \\sigma(\\mathbf s(\\mathbf x))_k= \\dfrac{\\exp(s_k(\\mathbf x))}{\\sum_{i=1}^K \\exp(s_i(\\mathbf x))}$$\n",
    "$$ $$\n",
    "> * <span style=\"color:blue\"> (4) 샘플 $\\mathbf x$에 대한 레이블의 예측은 추정확률 $\\hat{p}_k$가 최대가 되는 $k$로 예측</span> 즉,\n",
    "$$ $$\n",
    "$$\\hat y = \\text{argmax}_k \\hat{p}_k=\\text{argmax}_k \\sigma(\\mathbf s(\\mathbf x))_k\n",
    "=\\text{argmax}_k s_k(\\mathbf x) = \\text{argmax}_k \\boldsymbol{\\theta}_k^{\\rm T}\\mathbf x, \\ (1\\le k\\le K)$$  \n",
    ">> * 소프트맥스 회귀 분류기는 하나의 샘플에 대해 하나의 클래스만 예측 (즉, 하나의 사진에서 여러 사람의 얼굴을 인식하는 것과 같은 다중 출력 분류기는 아님)"
   ]
  },
  {
   "cell_type": "markdown",
   "metadata": {},
   "source": [
    "## 2. 2. 소프트맥스 회귀 모델의 학습 \n",
    "\n",
    "* 소프트맥스 회귀 모델에서 레이블이 $k$가 확률의 추정값은 $\\hat p_k(\\mathbf x)=\\text{P}(Y=k|X=\\mathbf x)$이고 훈련 데이터셋이 iid로부터 얻은 샘플이므로 로그우도함수\n",
    "$$\n",
    "\\ln\\bigl(\\text{P}(y_1,\\cdots,y_m|\\mathbf x_1,\\cdots,\\mathbf x_m:\\mathbf \\Theta)\\bigr)=\\sum_{i=1}^m \\ln\\bigl(\\text{P}(Y=y_i|X=\\mathbf x_i:\\mathbf \\Theta)\\bigr)\n",
    "$$\n",
    "가 최대가 되는 모델 파라미터 $\\mathbf \\Theta=(\\theta_{ij})$를 구하는 것이 소프트맥스 회귀 모델의 학습   \n",
    "> * $i$번째 샘플에 대한 레이블 $y_i\\in \\{1,\\cdots,K\\}$를 **원-핫(one hot)**인코딩으로 표현하여 레이블 값에 해당하는 한 성분만 $1$이고 나머지 성분은 모두 $0$인 벡터  $(y_{i1},\\cdots,y_{iK})^{\\rm T}$로 생각하면 (즉, $K=4$이고 $y_i=2$인 경우 $y_i$의 원-핫 인코딩은 $(0,1,0,0)^{\\rm T}$)\n",
    "$$\\text{P}(Y=y_i|X=\\mathbf x_i:\\mathbf \\Theta)=\\prod_{k=1}^K \\hat{p}_k(\\mathbf x_i)^{y_{ik}}=\\prod_{k=1}^K \\bigl(\\sigma(\\mathbf \\Theta\\mathbf x_i)_k\\bigr)^{y_{ik}}=\\prod_{k=1}^K \\left(\\dfrac{\\exp(\\boldsymbol{\\theta}_k^{\\rm T}\\mathbf x_i)}{\\sum_{k=1}^K \\exp(\\boldsymbol{\\theta}_k^{\\rm T}\\mathbf x_i)} \\right)^{y_{ik}}$$\n",
    "\n",
    "* 즉, 소프트맥스 회귀 모델에 대한 비용함수 $J(\\mathbf \\Theta)$는 위 로그우도함수의 부호를 바꾸고 모든 샘플에 대한 평균을 구하여 다음과 같이 정의함\n",
    "$$J(\\mathbf \\Theta)=-\\dfrac 1 m \\sum_{i=1}^m\\sum_{k=1}^K y_{ik}\\ln(\\hat{p}_k(\\mathbf x_i))=-\\dfrac 1 m \\sum_{i=1}^m\\sum_{k=1}^K y_{ik}\\ln\\left(\\dfrac{\\exp(\\boldsymbol{\\theta}_k^{\\rm T}\\mathbf x_i)}{\\sum_{k=1}^K \\exp(\\boldsymbol{\\theta}_k^{\\rm T}\\mathbf x_i)} \\right)$$  \n",
    "$$ $$ \n",
    "* 위에서 정의한 비용함수 $J(\\mathbf \\Theta)$를 **크로스 엔트로피(cross entropy)** 비용함수라고 부름  \n",
    "> * 크로스 엔트로피는 **정보이론**에서 유래한 것으로 두 이산확률분포 $p: P(X=k)=p_k\\ (1\\le k\\le K)$와 $q: P(X=k)=q_k\\ (1\\le k\\le K)$에 대한 크로스 엔트로피는 $H(p,q)=-\\sum_{k=1}^K p_k \\ln q_k$로 정의됨  \n",
    "$$ $$\n",
    "> * 일반적으로 두 이산확률분포 $p, \\ q$가 어느 정도 비슷한 분포인지에 대한 측도인 **쿨백-라이블러 발산(Kullback-Leibler divergence)** $K(p||q)$는 $K(p||q)=H(p,q)-H(p,p)$로 정의되고 항상 $K(p||q)\\ge 0$이 성립함 \n",
    "$$ $$\n",
    "\n",
    "* 다음과 같이 계산되는 그래디언트 벡터 $\\nabla_{\\mathbf \\theta}J(\\mathbf \\Theta)$를 이용하여 경사하강법 또는 다른 최적화 알고리즘을 이용하여 크로스 엔트로피 비용함수가 최소가 되는 모델 파라미터 $\\mathbf \\Theta$를 구함 \n",
    "<span style=\"color:red\"> (check 2)</span>\n",
    "$$\n",
    "\\nabla_{\\boldsymbol{\\theta}_k}J(\\mathbf \\Theta) = \\dfrac 1 m\\sum_{i=1}^m (\\hat{p}_{k}(\\mathbf x_i)-y_{ik})\\mathbf x_i=\\dfrac 1 m\\sum_{i=1}^m \\left(\\dfrac{\\exp(\\boldsymbol{\\theta}_k^{\\rm T}\\mathbf x_i)}{\\sum_{k=1}^K \\exp(\\boldsymbol{\\theta}_k^{\\rm T}\\mathbf x_i)} -y_{ik}\\right)\\mathbf x_i,\\ (1\\le k \\le K)\n",
    "$$\n",
    "> * 위 식을 이용하여 각 파라미터 벡터 $\\boldsymbol{\\theta}_k$ $(k=1,\\cdots,K)$를 업데이트 시킴 \n",
    "$$ $$\n",
    "* `sklearn.linear_model` 모듈의 `LogisticRegression`클래스를 이용하여 소프트맥스 회귀 분류기 객체를 생성하기 위해서는 입력변수를 `multi_class=\"multinomial\"`로 전달하면 되고, 사용가능한 최적화 알고리즘은 API의 `solver`에 대한 설명을 참고   \n",
    "> * 소프트맥스 회귀를 위한 `solver`는 뉴턴 켤레 기울기법을 구현한 \"newton-cg\", 확률적 평균 경사하강법을 구현한 \"sag\", \"sag\"를 개선한 \"saga\", 제한된 메모리 공간에서 의사 뉴턴 방법의 일종을 구현한 \"lbfgs\"을 사용할 수 있음  \n",
    "> * 이 중 $\\ell_1$ 규제까지 지원하는 최적화 알고리즘은 \"saga\"\n",
    "$$ $$\n",
    "> * 소프트맥스 회귀 모델을 위해 `LogisticRegression(multi_class=\"multinomial\")`로 생성된 객체를 학습시킨 후, `predict`, `predict_proba`, `score` 등의 메소드를 사용하는 것은 로지스틱 회귀의 경우와 같음 "
   ]
  },
  {
   "cell_type": "markdown",
   "metadata": {},
   "source": [
    "## 소프트맥스 회귀 실습  \n",
    "\n",
    "* 소프트맥스 함수를 구현할 때 주의할 점 \n",
    "\n",
    "\n",
    "\n",
    "* 붓꽃 데이터셋을 모두 훈련 데이터로 사용(특성은 꽃잎 너비와 길이)하여 소프트맥스 회귀 분류기를 만들고, 이를 이용하여 (꽃잎 길이, 꽃잎 너비) 공간에서 결정경계를 구해보자. "
   ]
  },
  {
   "cell_type": "markdown",
   "metadata": {},
   "source": [
    "#### 소프트맥스 함수의 구현 시 유의할 점 \n",
    "\n",
    "* 다음과 같이 소프트맥스 함수 softmax_pre([$t_1,\\cdots,t_n$])을 구현하면 universal function으로 완벽하게 구현된 것처럼 보이지만, $t_i$ 값이 $710$이상인 경우 $e^{710}$가 너무 큰 수(overflow)가 되어 처리할 수 없는 수가 되므로 원하는 결과를 얻을 수 없다.  \n",
    "\n",
    "\n",
    "* 간단한 지수법칙을 이용하여 구현하면 위와 같은 문제를 해결할 수 있다. <span style=\"color:red\"> (check 3)</span>"
   ]
  },
  {
   "cell_type": "code",
   "execution_count": 17,
   "metadata": {},
   "outputs": [],
   "source": [
    "def softmax_pre(x): # x는 넘파이 배열 \n",
    "    x = np.exp(x)\n",
    "    return x/x.sum()"
   ]
  },
  {
   "cell_type": "code",
   "execution_count": 24,
   "metadata": {},
   "outputs": [
    {
     "name": "stdout",
     "output_type": "stream",
     "text": [
      "[1.00000000e+000 2.44396947e-307 6.64339780e-307 3.27084919e-265]\n",
      "[1. 0. 0. 0.]\n"
     ]
    }
   ],
   "source": [
    "# overflow가 생기지 않는 경우 \n",
    "\n",
    "x1 = np.array([709, 3, 4, 100])\n",
    "print(softmax_pre(x1))\n",
    "print(np.round(1e3 * softmax_pre(x1))/1e3)"
   ]
  },
  {
   "cell_type": "code",
   "execution_count": 25,
   "metadata": {},
   "outputs": [
    {
     "name": "stdout",
     "output_type": "stream",
     "text": [
      "[nan  0.  0.  0.]\n",
      "[nan  0.  0.  0.]\n"
     ]
    },
    {
     "name": "stderr",
     "output_type": "stream",
     "text": [
      "<ipython-input-17-814dc8c6b251>:2: RuntimeWarning: overflow encountered in exp\n",
      "  x = np.exp(x)\n",
      "<ipython-input-17-814dc8c6b251>:3: RuntimeWarning: invalid value encountered in true_divide\n",
      "  return x/x.sum()\n"
     ]
    }
   ],
   "source": [
    "# overflow가 생기는 경우 \n",
    "\n",
    "x2 = np.array([800, 3, 4, 100])\n",
    "print(softmax_pre(x2))\n",
    "print(np.round(1e3 * softmax_pre(x2))/1e3)"
   ]
  },
  {
   "cell_type": "markdown",
   "metadata": {},
   "source": [
    "#### 코딩 연습문제 (3)\n",
    "\n",
    "* <span style=\"color:red\"> (check 3)</span>을 이용하여 softmax_pre()와 같이 overflow가 생기지 않도록 softmax함수를 구현하시오. "
   ]
  },
  {
   "cell_type": "code",
   "execution_count": 29,
   "metadata": {},
   "outputs": [],
   "source": [
    "def softmax(x):\n",
    "    # 배열 x의 최댓값 찾기\n",
    "    x_max = np.max(x)\n",
    "    # x의 각 원소를 x의 최대값으로 빼주기\n",
    "    x_negative = x - x_max\n",
    "    # 지수함수 취하기(0으로 근사)\n",
    "    x_exp = np.exp(x_negative)\n",
    "    \n",
    "    return x_exp/x_exp.sum()"
   ]
  },
  {
   "cell_type": "code",
   "execution_count": 30,
   "metadata": {},
   "outputs": [
    {
     "name": "stdout",
     "output_type": "stream",
     "text": [
      "[1. 0. 0. 0.]\n",
      "[1. 0. 0. 0.]\n"
     ]
    }
   ],
   "source": [
    "# 구현 확인 \n",
    "\n",
    "x3 = np.array([10**19, 790, 800, 100])\n",
    "print(softmax(x3))\n",
    "print(np.round(1e3 * softmax(x3))/1e3)"
   ]
  },
  {
   "cell_type": "markdown",
   "metadata": {},
   "source": [
    "#### 꽃잎 길이, 너비를 이용한 소프트맥스 회귀 모델 \n",
    "\n",
    "* 두 클래스가 겹치는 결정 경계 근처에서는 각 클래스에 속할 확률이 $1/2$  \n",
    "\n",
    "* 세 클래스가 모두 겹치는 결정 경계 근처에서는 각 클래스에 속할 확률이 $1/3$"
   ]
  },
  {
   "cell_type": "code",
   "execution_count": null,
   "metadata": {},
   "outputs": [],
   "source": [
    "X = iris[\"data\"][:, 2:]  # 꽃잎 길이, 꽃잎 너비\n",
    "y = iris[\"target\"]\n",
    "\n",
    "softmax_reg = LogisticRegression(multi_class=\"multinomial\",solver=\"lbfgs\", C=10, random_state=42)\n",
    "softmax_reg.fit(X, y)"
   ]
  },
  {
   "cell_type": "code",
   "execution_count": null,
   "metadata": {},
   "outputs": [],
   "source": [
    "# 결정 경계를 그림으로 나타내기 \n",
    "\n",
    "x0, x1 = np.meshgrid(\n",
    "        np.linspace(0, 8, 500).reshape(-1, 1),\n",
    "        np.linspace(0, 3.5, 200).reshape(-1, 1),\n",
    "    )\n",
    "\n",
    "X_new = np.column_stack([x0.ravel(), x1.ravel()])\n",
    "\n",
    "y_proba = softmax_reg.predict_proba(X_new)\n",
    "y_predict = softmax_reg.predict(X_new)\n",
    "\n",
    "zz2 = y_proba[:, 2].reshape(x0.shape)\n",
    "zz1 = y_proba[:, 1].reshape(x0.shape)\n",
    "\n",
    "zz = y_predict.reshape(x0.shape)\n",
    "\n",
    "plt.figure(figsize=(10,6))\n",
    "plt.plot(X[y==2, 0], X[y==2, 1], \"go\", label=\"Iris virginica\", alpha=0.3)\n",
    "plt.plot(X[y==1, 0], X[y==1, 1], \"rs\", label=\"Iris versicolor\", alpha=0.3)\n",
    "plt.plot(X[y==0, 0], X[y==0, 1], \"bx\", label=\"Iris setosa\", alpha=0.3)\n",
    "\n",
    "from matplotlib.colors import ListedColormap\n",
    "custom_cmap = ListedColormap([\"blue\", \"red\",  \"green\"])\n",
    "custom_cmap1 = ListedColormap([\"tomato\", \"red\", \"darkred\"])\n",
    "custom_cmap2 = ListedColormap([\"teal\", \"green\", \"darkgreen\"])\n",
    "plt.contourf(x0, x1, zz, cmap=custom_cmap, alpha=0.2)\n",
    "contour1 = plt.contour(x0, x1, zz1, cmap=custom_cmap1, linewidths=0.5)\n",
    "contour2 = plt.contour(x0, x1, zz2, cmap=custom_cmap2, linewidths=0.5)\n",
    "plt.clabel(contour1, inline=False, fontsize=10, fmt='%1.2f')\n",
    "plt.clabel(contour2, inline=False, fontsize=10, fmt='%1.2f')\n",
    "\n",
    "plt.xlabel(\"Petal length\", fontsize=10)\n",
    "plt.ylabel(\"Petal width\", fontsize=10)\n",
    "plt.legend(loc=\"center left\", fontsize=10)\n",
    "plt.axis([0, 7, 0, 3.5])\n",
    "plt.show()"
   ]
  },
  {
   "cell_type": "markdown",
   "metadata": {},
   "source": [
    "## 이론 연습문제 \n",
    "\n",
    "1) 시그모이드 함수 $\\sigma(t) = \\dfrac 1 {1+\\exp{(-t)}}$의 도함수가 다음과 같음을 보이시오.  ($\\exp(-t)=e^{-t})$\n",
    "$$\\sigma'(t)= \\sigma(t)\\bigl(1-\\sigma(t)\\bigr)$$\n",
    "\n",
    "2) 위 설명 중 <span style=\"color:red\"> (check 1)</span>을 증명하시오. (단, 각 $i \\ (1\\le i \\le m)$에 대해 $x_{i0}=1$)\n",
    "\n",
    "3) 이산확률변수 $Y$가 취할 수 있는 값이 $k$ 가지($c_1,\\cdots,c_k$)일 때 베이즈 정리로부터 \n",
    "$$ $$\n",
    "$$\\text{P}(Y=c_k|X=\\mathbf x)=\\dfrac{\\text{P}(Y=c_k)\\text{P}(X=\\mathbf x|Y=c_k)}{\\sum_{i=1}^K \\text{P}(Y=c_i)\\text{P}(X=\\mathbf x|Y=c_i)}$$\n",
    "이 성립한다. 다음과 같이 베이즈 정리와 시그모이드함수, 소프트맥스 함수 사이의 관계를 살펴보시오. \n",
    "\n",
    "3-1) $K=2$일 때, 시그모이드 함수 $\\sigma$에 대해 $\\text{P}(Y=c_k|X=\\mathbf x)=\\sigma(a)$이다. $a$를 구하시오. \n",
    "\n",
    "3-2) $K>2$일 때, 소프트맥스 함수 $\\sigma$에 대해 $\\text{P}(Y=c_k|X=\\mathbf x)=\\sigma(a)$이다. $a$를 구하시오.\n",
    "\n",
    "4) 위 설명 중 <span style=\"color:red\"> (check 2)</span>를 증명하시오. \n",
    "\n",
    "5) 사진을 낮과 밤, 실내와 실외로 분류를 하려고 할 때, 두 개의 로지스틱 회귀 분류기를 만들어야 할 지, 아니면 하나의 소프트맥스 회귀 분류기를 만들어야 할 지 설명하시오. "
   ]
  },
  {
   "cell_type": "markdown",
   "metadata": {},
   "source": [
    "## 실습 연습문제 \n",
    "\n",
    "1) 훈련 데이터셋의 특성벡터 $\\mathbf x_i = (1,x_{i1},\\cdots,x_{in})^{\\rm T}$를 $i$번째 행벡터로 갖는 $m\\times (n+1)$ 행렬을 $\\mathbf X$, 각 샘플에 대한 레이블 $y_i$로 이루어진 레이블 벡터를 $\\mathbf y=(y_1,\\cdots, y_m)^{\\rm T}$, 모델 파라미터 벡터를 $\\boldsymbol{\\theta}=(\\theta_0,\\cdots,\\theta_n)^{\\rm T}$라 하면, 모두 Numpy 배열을 이용하여 나타낼 수 있다. 이때, <span style=\"color:red\"> (check 1)</span>의 식을 참고하여 넘파이 배열과 `np.exp`함수(배열의 각 성분에 대해 계산되는 ufunc)를 이용하여  $\\nabla_{\\boldsymbol{\\theta}}J(\\boldsymbol{\\theta})$를 구현하는 코드를 작성하시오.   \n",
    "> 참고 ufunc(universal function) [링크](https://numpy.org/doc/stable/reference/ufuncs.html?highlight=ufunc)\n",
    "\n",
    "2) Numpy의 장점(vectorization(순환문 없이 구현), ufunction, broadcasting)을 활용하여  위 <span style=\"color:red\"> (check 1)</span>의 식으로부터 로지스틱 회귀 비용함수의 그래디언트 벡터 $\\nabla_{\\boldsymbol{\\theta}}J(\\boldsymbol{\\theta})$를 계산하는 식을 효율적으로 구현하고, (배치 또는 확률적)경사하강법을 이용하여 로지스틱 회귀를 학습시키는 코드를 작성하여 붓꽃 데이터셋에 적용시켜 보시오. \n",
    "\n",
    "(참고: vectorization에 대한 개념 이해 참고[링크](https://speakerdeck.com/jakevdp/losing-your-loops-fast-numerical-computing-with-numpy-pycon-2015?slide=38) )\n",
    "\n",
    "2) <span style=\"color:red\"> (check 3)</span>을 이용하여 overflow가 생기지 않도록 softmax 함수를 구현하시오. "
   ]
  },
  {
   "cell_type": "code",
   "execution_count": null,
   "metadata": {},
   "outputs": [],
   "source": []
  }
 ],
 "metadata": {
  "kernelspec": {
   "display_name": "Python 3",
   "language": "python",
   "name": "python3"
  },
  "language_info": {
   "codemirror_mode": {
    "name": "ipython",
    "version": 3
   },
   "file_extension": ".py",
   "mimetype": "text/x-python",
   "name": "python",
   "nbconvert_exporter": "python",
   "pygments_lexer": "ipython3",
   "version": "3.8.3"
  }
 },
 "nbformat": 4,
 "nbformat_minor": 4
}
